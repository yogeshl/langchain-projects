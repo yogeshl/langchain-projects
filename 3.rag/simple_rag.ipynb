{
 "cells": [
  {
   "cell_type": "code",
   "execution_count": 2,
   "metadata": {},
   "outputs": [
    {
     "data": {
      "text/plain": [
       "[Document(page_content='I’m delighted to be here at the Royal Society, the place where the story of modern science has been written for centuries.\\n\\nNow, I’m unashamedly optimistic about the power of technology to make life better for everyone.\\n\\nSo, the easy speech for me to give - the one in my heart I really want to give…\\n\\n…would be to tell you about the incredible opportunities before us.\\n\\nJust this morning, I was at Moorfields Eye Hospital.\\n\\nThey’re using Artificial Intelligence to build a model that can look at a single picture of your eyes…\\n\\n…and not only diagnose blindness, but predict heart attacks, strokes, or Parkinson’s.\\n\\nAnd that’s just the beginning.\\n\\nI genuinely believe that technologies like AI will bring a transformation as far-reaching…\\n\\n…as the industrial revolution, the coming of electricity, or the birth of the internet.\\n\\nNow, as with every one of those waves of technology, AI will bring new knowledge…\\n\\n…new opportunities for economic growth, new advances in human capability…\\n\\n…and the chance to solve problems that we once thought beyond us.\\n\\nBut like those waves, it also brings new dangers and new fears.\\n\\nSo, the responsible thing for me to do – the right speech for me to make – is to address those fears head on…\\n\\n…giving you the peace of mind that we will keep you safe…\\n\\n…while making sure you and your children have all the opportunities for a better future that AI can bring.\\n\\nNow, doing the right thing, not the easy thing, means being honest with people about the risks from these technologies.\\n\\nSo, I won’t hide them from you.\\n\\nThat’s why today, for the first time, we’ve taken the highly unusual step…\\n\\n…of publishing our analysis on the risks of AI…\\n\\n…including an assessment by the UK intelligence communities.\\n\\nThese reports provide a stark warning.\\n\\nGet this wrong, and AI could make it easier to build chemical or biological weapons.\\n\\nTerrorist groups could use AI to spread fear and destruction on an even greater scale.\\n\\nCriminals could exploit AI for cyber-attacks, disinformation, fraud, or even child sexual abuse.\\n\\nAnd in the most unlikely but extreme cases, there is even the risk that humanity could lose control of AI completely…\\n\\n…through the kind of AI sometimes referred to as ‘super intelligence’.\\n\\nIndeed, to quote the statement made earlier this year by hundreds of the world’s leading AI experts:\\n\\n“Mitigating the risk of extinction from AI should be a global priority alongside other societal-scale risks such as pandemics and nuclear war”.\\n\\nNow, I want to be completely clear:\\n\\nThis is not a risk that people need to be losing sleep over right now.\\n\\nI don’t want to be alarmist.\\n\\nAnd there is a real debate about this - some experts think it will never happen at all.\\n\\nBut however uncertain and unlikely these risks are, if they did manifest themselves, the consequences would be incredibly serious.\\n\\nAnd when so many of the biggest developers of this technology themselves warn of these risks…\\n\\n…leaders have a responsibility to take them seriously, and to act.\\n\\nAnd that is what I am doing today – in three specific ways.\\n\\nFirst, keeping you safe.\\n\\nRight now, the only people testing the safety of AI…\\n\\n…are the very organisations developing it.\\n\\nEven they don’t always fully understand what their models could become capable of.\\n\\nAnd there are incentives in part, to compete to build the best models, quickest.\\n\\nSo, we should not rely on them marking their own homework, as many of those working on this would agree.\\n\\nNot least because only governments can properly assess the risks to national security.\\n\\nAnd only nation states have the power and legitimacy to keep their people safe.\\n\\nThe UK’s answer is not to rush to regulate.\\n\\nThis is a point of principle – we believe in innovation, it’s a hallmark of the British economy…\\n\\n…so we will always have a presumption to encourage it, not stifle it. \\n\\nAnd in any case, how can we write laws that make sense for something we don’t yet fully understand?\\n\\nSo, instead, we’re building world-leading capability to understand and evaluate the safety of AI models within government.\\n\\nTo do that, we’ve already invested £100m in a new taskforce…\\n\\n…more funding for AI safety than any other country in the world.\\n\\nAnd we’ve recruited some of the most respected and knowledgeable figures in the world of AI.\\n\\nSo, I’m completely confident in telling you the UK is doing far more than other countries to keep you safe.\\n\\nAnd because of this – because of the unique steps we’ve already taken – we’re able to go even further today.\\n\\nI can announce that we will establish the world’s first AI Safety Institute – right here in the UK.\\n\\nIt will advance the world’s knowledge of AI safety. \\n\\nAnd it will carefully examine, evaluate, and test new types of AI…\\n\\n…so that we understand what each new model is capable of…\\n\\n…exploring all the risks, from social harms like bias and misinformation, through to the most extreme risks of all. \\n\\nThe British people should have peace of mind that we’re developing the most advanced protections for AI of any country in the world.\\n\\nDoing what’s right and what’s necessary to keep you safe.\\n\\nBut AI does not respect borders.\\n\\nSo we cannot do this alone.\\n\\nThe second part of our plan is to host the world’s first ever Global AI Safety Summit next week, at Bletchley Park – the iconic home of computer science.\\n\\nWe’re bringing together the world’s leading representatives…\\n\\n…from Civil Society…\\n\\n…to the companies pioneering AI…\\n\\n…and the countries most advanced in using it.\\n\\nAnd yes – we’ve invited China.\\n\\nI know there are some who will say they should have been excluded.\\n\\nBut there can be no serious strategy for AI without at least trying to engage all of the world’s leading AI powers.\\n\\nThat might not have been the easy thing to do, but it was the right thing to do. \\n\\nSo, what do we hope to achieve at next week’s Summit?\\n\\nRight now, we don’t have a shared understanding of the risks that we face.\\n\\nAnd without that, we cannot hope to work together to address them.\\n\\nThat’s why we will push hard to agree the first ever international statement about the nature of these risks.\\n\\nYet AI is developing at breath taking speed. \\n\\nEvery new wave will become more advanced, better trained, with better chips, and more computing power.\\n\\nSo we need to make sure that as the risks evolve, so does our shared understanding.\\n\\nI believe we should take inspiration from the Intergovernmental Panel on Climate Change…\\n\\n…which was set up to reach an international scientific consensus.\\n\\nSo, next week, I will propose that we establish a truly global expert panel…\\n\\n…nominated by the countries and organisations attending …\\n\\n…to publish a State of AI Science report. \\n\\nOf course, our efforts also depend on collaboration with the AI companies themselves. \\n\\nUniquely in the world, those companies have already trusted the UK with privileged access to their models. \\n\\nThat’s why the UK is so well-placed to create the world’s first Safety Institute.\\n\\nAnd at next week’s Summit I will work together with the companies and countries to deepen our partnerships.\\n\\nMy vision, and our ultimate goal, should be to work towards a more international approach to safety…\\n\\n…where we collaborate with partners to ensure AI systems are safe before they are released.\\n\\nAnd so to support this, we will make the work of our Safety Institute available to the world.\\n\\nThat’s the right thing to do morally, in keeping with the UK’s historic role on the international stage.\\n\\nAnd it’s also the right thing economically, for families and businesses up and down the country.\\n\\nBecause the future of AI is safe AI. \\n\\nAnd by making the UK a global leader in safe AI, we will attract even more of the new jobs and investment that will come from this new wave of technology.\\n\\nJust think for a moment about what that will mean for our country. \\n\\nThe growth it will catalyse, the jobs it will create, the change it can deliver –for the better.\\n\\nAnd that’s the third part of our plan – to make sure that everyone in our country can benefit from the opportunities of AI.\\n\\nWe’ve already got strong foundations.\\n\\nThird in the world for tech, behind only the US and China.\\n\\nThe best place in Europe to raise capital. \\n\\nAll of the leading AI companies - choosing the UK as their European headquarters.\\n\\nThe most pro-investment tax regime…\\n\\nThe most pro-entrepreneur visa regime, to attract the world’s top talent…\\n\\n…and the education reforms to give our own young people the skills to succeed. \\n\\nAnd we’re going to make it even easier for ambitious people with big ideas to start, grow, and compete in the world of AI. \\n\\nThat’s not just about having the technical skills, but the raw computing power. \\n\\nThat’s why we’re investing almost a billion pounds in a supercomputer thousands of times faster than the one you have at home. \\n\\nAnd it’s why we’re investing £2.5bn in quantum computers, which can be exponentially quicker than those computers still.  \\n\\nTo understand this, consider how Google’s Sycamore quantum computer…\\n\\n…can solve a maths problem in 200 seconds, that would take the world’s fastest supercomputer 10,000 years.\\n\\nAnd as we invest more in our computing power, we’ll make it available for researchers and businesses, as well as government…\\n\\n…so that when the best entrepreneurs in the world think about where they want to start and scale their AI businesses, they choose the UK. \\n\\nAnd finally, we must target our scientific efforts towards what I think of as AI for good.\\n\\nRight across the western world, we’re searching for answers to the question of how we can improve and increase our productivity.\\n\\nBecause that’s the only way over the long-term to grow our economy and raise people’s living standards. \\n\\nAnd in a million different ways, across every aspect of our lives, AI can be that answer.\\n\\nIn the public sector, we’re clamping down on benefit fraudsters…\\n\\n…and using AI as a co-pilot to help clear backlogs and radically speed up paperwork. \\n\\nJust take for example, the task of producing bundles for a benefits tribunal.\\n\\nBefore, a week’s work could produce around 11. \\n\\nNow – that takes less than an hour. \\n\\nAnd just imagine the benefits of that rolled out across the whole of government. \\n\\nIn the private sector, start-ups like Robin AI are revolutionising the legal profession…\\n\\n…writing contracts in minutes, saving businesses and customers time and money. \\n\\nLondon-based Wayve is using sophisticated AI software to create a new generation of electric, self-driving cars.\\n\\nBut more than all of this – AI can help us solve some of the greatest social challenges of our time.   \\n\\nIt can help us finally achieve the promise of nuclear fusion, providing abundant, cheap, clean energy with virtually no emissions.\\n\\nIt can help us solve world hunger, by making food cheaper and easier to grow…\\n\\n…and preventing crop failures by accurately predicting when to plant, harvest or water your crops.\\n\\nAnd AI could help find novel dementia treatments or develop vaccines for cancer.\\n\\nThat’s why today we’re investing a further £100m to accelerate the use of AI…\\n\\n…on the most transformational breakthroughs in treatments for previously incurable diseases.\\n\\nNow I believe nothing in our foreseeable future will be more transformative for our economy, our society, and all our lives, than this technology.\\n\\nBut in this moment, it is also one of the greatest tests of leadership we face.\\n\\nIt would be easy to bury our heads in the sand and hope it’ll turn out alright in the end.\\n\\nTo decide it’s all too difficult, or the risks of political failure are too great.\\n\\nTo put short-term demands ahead of the long-term interest of the country.\\n\\nBut I won’t do that.\\n\\nI will do the right thing, not the easy thing. \\n\\nI will always be honest with you about the risks.\\n\\nAnd you can trust me to make the right long-term decisions…\\n\\n…giving you the peace of mind that we will keep you safe…\\n\\n…while making sure you and your children have all the opportunities for a better future that AI can bring.\\n\\nI feel an extraordinary sense of purpose. \\n\\nWhen I think about why I came into politics…\\n\\nFrankly, why almost anyone came into politics…\\n\\nIt’s because we want to make life better for people…\\n\\n…to give our children and grandchildren a better future.\\n\\nAnd we strive, hour after hour, policy after policy, just trying to make a difference.\\n\\nAnd yet, if harnessed in the right way, the power and possibility of this technology…\\n\\n…could dwarf anything any of us have achieved in a generation. \\n\\nAnd that’s why I make no apology for being pro-technology. \\n\\nIt’s why I want to seize every opportunity for our country to benefit in the way I’m so convinced that it can. \\n\\nAnd it’s why I believe we can and should, look to the future with optimism and hope.', metadata={'source': 'speech.txt'})]"
      ]
     },
     "execution_count": 2,
     "metadata": {},
     "output_type": "execute_result"
    }
   ],
   "source": [
    "## Data Ingestion\n",
    "from langchain_community.document_loaders import TextLoader\n",
    "loader=TextLoader(\"speech.txt\")\n",
    "text_documents =loader.load()\n",
    "text_documents"
   ]
  },
  {
   "cell_type": "code",
   "execution_count": 3,
   "metadata": {},
   "outputs": [],
   "source": [
    "import os\n",
    "from dotenv import load_dotenv\n",
    "load_dotenv()\n",
    "\n",
    "os.environ[\"OPENAI_API_KEY\"]=os.getenv(\"OPENAI_API_KEY\")"
   ]
  },
  {
   "cell_type": "code",
   "execution_count": 8,
   "metadata": {},
   "outputs": [],
   "source": [
    "# web based loader\n",
    "from langchain_community.document_loaders import WebBaseLoader\n",
    "import bs4\n",
    "\n",
    "## load, chunk and index the content of the html page\n",
    "loader=WebBaseLoader(web_paths=(\"https://lilianweng.github.io/posts/2023-06-23-agent/\",), bs_kwargs=dict(parse_only=bs4.SoupStrainer(\n",
    "    class_=(\"post-title\",\"post-content\",\"post-header\")\n",
    ")),)\n",
    "text_documents=loader.load()"
   ]
  },
  {
   "cell_type": "code",
   "execution_count": 13,
   "metadata": {},
   "outputs": [],
   "source": [
    "## PDF reader\n",
    "from langchain_community.document_loaders import PyPDFLoader\n",
    "loader=PyPDFLoader(\"sample.pdf\")\n",
    "docs=loader.load();\n"
   ]
  },
  {
   "cell_type": "code",
   "execution_count": 16,
   "metadata": {},
   "outputs": [
    {
     "data": {
      "text/plain": [
       "[Document(page_content=\"(c) eaDocX Ltd 2012   \\n1  \\n \\n \\n \\n \\nGet Lost!  \\nA Document which shows how eaDocX™ can be used with \\nEnterprise Architect  \\n \\nDocument : Sample #1  \\n  \\nDocument file name  Sample 1 - Project Overview - \\nFINAL.docx  \\nChange mark date  29/04/2012  \\n  \\nGenerated on  Author  Repository  \\n30/04/2012  eaDocX Sales  Z:\\\\2 - GetLost Project Example and Documents \\\\Get Lost Project \\nExample.eap  \\n  \\nCategory  Comments  File \\nFINAL  Shows the main formatting options, including new \\nV3.0 features like H&V tables and Word Table styles  C:\\\\Users \\\\Ian\\\\Documents \\\\7 - \\neaDocX Training  \\n \\n  Comment [I1]: This is the only \\ntext in this document which is \\nadded manually.  \\nComment [I2]: This shows the \\nstart of an eaDocX 'Section'. It is \\nnot visible in the final document, \\nas it's text style is 'invisible'. It can \\nbe see here because we have \\nchosen the Word option to 'show \\ninvisible text'.  \\nComment [I3]: This s ection is a \\n'Document Information' one. It is \\nrefreshed each time the document\", metadata={'source': 'sample.pdf', 'page': 0}),\n",
       " Document(page_content=\"be see here because we have \\nchosen the Word option to 'show \\ninvisible text'.  \\nComment [I3]: This s ection is a \\n'Document Information' one. It is \\nrefreshed each time the document \\nis generated, so it is always up -to-\\ndate  \\n \\nSome of the information is created \\nas the document is generated, \\nsome is stored in eaDocX, and \\nsome comes from the Word \\ndocument's prop erties.  \\n \\nAs with all eaDocX sections, what \\nappears here is configurable.  \\nComment [I4]: This is the end \\nof the eaDocX section.  \\nAny text which you add after this \\npoint will NOT be overwritten \\nwhen the document is re -\\ngenerated, so you can mix EA and \\nmanual content.\", metadata={'source': 'sample.pdf', 'page': 0}),\n",
       " Document(page_content=\"(c) eaDocX Ltd 2012   \\n2  \\n \\n \\n \\n \\nComment [I5]: We'v e decided \\nnot to have any manual content in \\nthis document, so we're straight \\non to another eaDocX Section.\", metadata={'source': 'sample.pdf', 'page': 1}),\n",
       " Document(page_content=\"(c) eaDocX Ltd 2012   \\n3  \\n \\n1 Project Background  \\nThis section has some general information about the project - why we're doing it, who our main \\ncompetitors will be, and the main people who are involved plus their roles.  \\nContains:  \\n\\uf0b7 Intro text  \\n\\uf0b7 Organisation  \\n\\uf0b7 Competitor analysis  Comment [I6]: We have \\nchosen to start this section with a \\nHeading Level 1. This is \\nconfigurable. There is a page \\nbreak before this heading, as \\nthat's what the Heading 1 Word \\nstyle says.   \\n \\neaDocX uses the Word style to \\ndetermine the detailed formatting \\nof most of the do cument: the \\ncolour of text, font, size, \\npositioning etc.  \\n \\nSo, the generated text can look \\nexactly the same as the manually \\ncreated content: this makes the \\ndocument look professional, and is \\neasier to read.  \\nComment [I7]: This text has \\ncome from our EA model.  \\nWe keep even textual content like \\nthis in EA, because we've found \\nthat it's reused in many \\ndocuments, so we have just lots of\", metadata={'source': 'sample.pdf', 'page': 2}),\n",
       " Document(page_content=\"Comment [I7]: This text has \\ncome from our EA model.  \\nWe keep even textual content like \\nthis in EA, because we've found \\nthat it's reused in many \\ndocuments, so we have just lots of \\nbackground information, which \\ngets used in many documents.\", metadata={'source': 'sample.pdf', 'page': 2})]"
      ]
     },
     "execution_count": 16,
     "metadata": {},
     "output_type": "execute_result"
    }
   ],
   "source": [
    "## Transform\n",
    "from langchain.text_splitter import RecursiveCharacterTextSplitter\n",
    "text_splitter=RecursiveCharacterTextSplitter(chunk_size=1000, chunk_overlap=200)\n",
    "\n",
    "documents=text_splitter.split_documents(docs)\n",
    "documents[:5]\n"
   ]
  },
  {
   "cell_type": "code",
   "execution_count": 17,
   "metadata": {},
   "outputs": [
    {
     "name": "stderr",
     "output_type": "stream",
     "text": [
      "c:\\WORKSPACE\\GitHub\\langchain-projects\\venv\\lib\\site-packages\\langchain_core\\_api\\deprecation.py:117: LangChainDeprecationWarning: The class `langchain_community.embeddings.openai.OpenAIEmbeddings` was deprecated in langchain-community 0.0.9 and will be removed in 0.2.0. An updated version of the class exists in the langchain-openai package and should be used instead. To use it run `pip install -U langchain-openai` and import as `from langchain_openai import OpenAIEmbeddings`.\n",
      "  warn_deprecated(\n"
     ]
    }
   ],
   "source": [
    "## Vector embeddings and vector store\n",
    "from langchain_community.embeddings import OpenAIEmbeddings\n",
    "from langchain_community.vectorstores import Chroma\n",
    "\n",
    "db=Chroma.from_documents(documents[:10], OpenAIEmbeddings())"
   ]
  },
  {
   "cell_type": "code",
   "execution_count": 20,
   "metadata": {},
   "outputs": [
    {
     "data": {
      "text/plain": [
       "\"home to the train station.  \\nBusiness Case  \\nLike other travel aggregators, GetLost will make a margin on each journey booked, which will be \\nenhanced by doing deals with specific providers who  will give us discounts, which we may pass on \\npart of to the customer.  \\nGetLost ™ is made possible by two recent innovations:  Comment [I8]: Another page \\nbreak here, because the Word \\nDocument Heading 2 Style also is \\nconfigured for 'Page Break before'.  \\nComment [I9]: Bullet points \\nwithin text can use their own \\nWord Style. In this case, we've \\nchosen one which makes the text \\nquite compact, and indented. All \\nthis is configured in Word.  \\nComment [I10]: Numbered \\nlists can also use their own Word \\nstyle.\""
      ]
     },
     "execution_count": 20,
     "metadata": {},
     "output_type": "execute_result"
    }
   ],
   "source": [
    "## Vector Database\n",
    "query=\"What is business case of get lost?\"\n",
    "result=db.similarity_search(query)\n",
    "result[0].page_content"
   ]
  },
  {
   "cell_type": "code",
   "execution_count": 21,
   "metadata": {},
   "outputs": [],
   "source": [
    "## FAISS Vector Database\n",
    "from langchain_community.vectorstores import FAISS\n",
    "db1=FAISS.from_documents(documents[:10], OpenAIEmbeddings())\n"
   ]
  },
  {
   "cell_type": "code",
   "execution_count": 22,
   "metadata": {},
   "outputs": [
    {
     "data": {
      "text/plain": [
       "\"home to the train station.  \\nBusiness Case  \\nLike other travel aggregators, GetLost will make a margin on each journey booked, which will be \\nenhanced by doing deals with specific providers who  will give us discounts, which we may pass on \\npart of to the customer.  \\nGetLost ™ is made possible by two recent innovations:  Comment [I8]: Another page \\nbreak here, because the Word \\nDocument Heading 2 Style also is \\nconfigured for 'Page Break before'.  \\nComment [I9]: Bullet points \\nwithin text can use their own \\nWord Style. In this case, we've \\nchosen one which makes the text \\nquite compact, and indented. All \\nthis is configured in Word.  \\nComment [I10]: Numbered \\nlists can also use their own Word \\nstyle.\""
      ]
     },
     "execution_count": 22,
     "metadata": {},
     "output_type": "execute_result"
    }
   ],
   "source": [
    "## Vector Database\n",
    "query=\"What is business case of get lost?\"\n",
    "result=db1.similarity_search(query)\n",
    "result[0].page_content"
   ]
  }
 ],
 "metadata": {
  "kernelspec": {
   "display_name": "Python 3",
   "language": "python",
   "name": "python3"
  },
  "language_info": {
   "codemirror_mode": {
    "name": "ipython",
    "version": 3
   },
   "file_extension": ".py",
   "mimetype": "text/x-python",
   "name": "python",
   "nbconvert_exporter": "python",
   "pygments_lexer": "ipython3",
   "version": "3.10.14"
  }
 },
 "nbformat": 4,
 "nbformat_minor": 2
}
